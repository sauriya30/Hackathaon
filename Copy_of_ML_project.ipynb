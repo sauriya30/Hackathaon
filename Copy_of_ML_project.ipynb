{
  "nbformat": 4,
  "nbformat_minor": 0,
  "metadata": {
    "colab": {
      "provenance": []
    },
    "kernelspec": {
      "name": "python3",
      "display_name": "Python 3"
    },
    "language_info": {
      "name": "python"
    }
  },
  "cells": [
    {
      "cell_type": "code",
      "execution_count": 2,
      "metadata": {
        "id": "0DnIXBSX0wcN"
      },
      "outputs": [],
      "source": [
        "import pandas as pd\n",
        "import matplotlib.pyplot as plt\n",
        "import seaborn as sns "
      ]
    },
    {
      "cell_type": "markdown",
      "source": [],
      "metadata": {
        "id": "NL1dMLxAEKX3"
      }
    },
    {
      "cell_type": "code",
      "source": [
        "!pip install scikit-learn-intelex\n"
      ],
      "metadata": {
        "id": "tyVqm6z_CZRG",
        "colab": {
          "base_uri": "https://localhost:8080/"
        },
        "outputId": "bf8af611-802e-42a0-ddb7-2bc32334b7ca"
      },
      "execution_count": 3,
      "outputs": [
        {
          "output_type": "stream",
          "name": "stdout",
          "text": [
            "Looking in indexes: https://pypi.org/simple, https://us-python.pkg.dev/colab-wheels/public/simple/\n",
            "Requirement already satisfied: scikit-learn-intelex in /usr/local/lib/python3.9/dist-packages (2023.0.1)\n",
            "Requirement already satisfied: scikit-learn>=0.22 in /usr/local/lib/python3.9/dist-packages (from scikit-learn-intelex) (1.2.2)\n",
            "Requirement already satisfied: daal4py==2023.0.1 in /usr/local/lib/python3.9/dist-packages (from scikit-learn-intelex) (2023.0.1)\n",
            "Requirement already satisfied: daal==2023.0.1 in /usr/local/lib/python3.9/dist-packages (from daal4py==2023.0.1->scikit-learn-intelex) (2023.0.1)\n",
            "Requirement already satisfied: numpy>=1.15 in /usr/local/lib/python3.9/dist-packages (from daal4py==2023.0.1->scikit-learn-intelex) (1.22.4)\n",
            "Requirement already satisfied: tbb==2021.* in /usr/local/lib/python3.9/dist-packages (from daal==2023.0.1->daal4py==2023.0.1->scikit-learn-intelex) (2021.8.0)\n",
            "Requirement already satisfied: scipy>=1.3.2 in /usr/local/lib/python3.9/dist-packages (from scikit-learn>=0.22->scikit-learn-intelex) (1.10.1)\n",
            "Requirement already satisfied: joblib>=1.1.1 in /usr/local/lib/python3.9/dist-packages (from scikit-learn>=0.22->scikit-learn-intelex) (1.1.1)\n",
            "Requirement already satisfied: threadpoolctl>=2.0.0 in /usr/local/lib/python3.9/dist-packages (from scikit-learn>=0.22->scikit-learn-intelex) (3.1.0)\n"
          ]
        }
      ]
    },
    {
      "cell_type": "code",
      "source": [],
      "metadata": {
        "id": "G2wyFJNO-VR8"
      },
      "execution_count": 3,
      "outputs": []
    },
    {
      "cell_type": "code",
      "source": [],
      "metadata": {
        "id": "9shrbns0_S_J"
      },
      "execution_count": 3,
      "outputs": []
    },
    {
      "cell_type": "code",
      "source": [
        "from google.colab import drive\n",
        "drive.mount(\"/content/gdrive\")"
      ],
      "metadata": {
        "colab": {
          "base_uri": "https://localhost:8080/"
        },
        "id": "SXMEoVb--bnQ",
        "outputId": "8773dc2a-00d2-4d26-9138-ef31e379f7aa"
      },
      "execution_count": 4,
      "outputs": [
        {
          "output_type": "stream",
          "name": "stdout",
          "text": [
            "Mounted at /content/gdrive\n"
          ]
        }
      ]
    },
    {
      "cell_type": "code",
      "source": [
        "import pandas as pd\n",
        "dataframe =pd.read_csv('/content/gdrive/My Drive/Project Datasets - 2014 (4).csv')\n"
      ],
      "metadata": {
        "id": "OZWMOz1d-fA0"
      },
      "execution_count": 5,
      "outputs": []
    },
    {
      "cell_type": "code",
      "source": [
        "dataframe.head()"
      ],
      "metadata": {
        "colab": {
          "base_uri": "https://localhost:8080/",
          "height": 383
        },
        "id": "Z1jWxiIq-3XH",
        "outputId": "ea36a98d-5dca-43ac-b16d-7cec368045fd"
      },
      "execution_count": 6,
      "outputs": [
        {
          "output_type": "execute_result",
          "data": {
            "text/plain": [
              "            Club Name  Games Played  Wins      Win %  Goals       G/M  \\\n",
              "0       Chennaiyin FC            16     7  43.750000     27  1.687500   \n",
              "1              FC Goa            16     6  37.500000     21  1.312500   \n",
              "2              ATK FC            17     6  35.294118     17  1.000000   \n",
              "3    Delhi Dynamos FC            14     5  35.714286     16  1.142857   \n",
              "4  Kerala Blasters FC            17     4  23.529412     13  0.764706   \n",
              "\n",
              "   Clean Sheets  Clean Sheets%  Successful Passes        SP/M  ...  Touches  \\\n",
              "0             3      18.750000               4695  293.437500  ...     9071   \n",
              "1             7      43.750000               5133  320.812500  ...     9693   \n",
              "2             8      47.058824               4312  253.647059  ...     9163   \n",
              "3             5      35.714286               4074  291.000000  ...     7936   \n",
              "4             8      47.058824               4716  277.411765  ...     9511   \n",
              "\n",
              "          T/M  Crosses        C/M  Red Cards  Shots        S/M  Total Points  \\\n",
              "0  566.937500      242  15.125000          3    223  13.937500            26   \n",
              "1  605.812500      256  16.000000          1    228  14.250000            24   \n",
              "2  539.000000      277  16.294118          3    175  10.294118            27   \n",
              "3  566.857143      267  19.071429          2    168  12.000000            21   \n",
              "4  559.470588      323  19.000000          1    189  11.117647            16   \n",
              "\n",
              "   Rank  GD  \n",
              "0     0   4  \n",
              "1     0   9  \n",
              "2     1   3  \n",
              "3     0   2  \n",
              "4     0  -2  \n",
              "\n",
              "[5 rows x 23 columns]"
            ],
            "text/html": [
              "\n",
              "  <div id=\"df-76d2151e-83b4-4936-bdb6-aa1f53460ae2\">\n",
              "    <div class=\"colab-df-container\">\n",
              "      <div>\n",
              "<style scoped>\n",
              "    .dataframe tbody tr th:only-of-type {\n",
              "        vertical-align: middle;\n",
              "    }\n",
              "\n",
              "    .dataframe tbody tr th {\n",
              "        vertical-align: top;\n",
              "    }\n",
              "\n",
              "    .dataframe thead th {\n",
              "        text-align: right;\n",
              "    }\n",
              "</style>\n",
              "<table border=\"1\" class=\"dataframe\">\n",
              "  <thead>\n",
              "    <tr style=\"text-align: right;\">\n",
              "      <th></th>\n",
              "      <th>Club Name</th>\n",
              "      <th>Games Played</th>\n",
              "      <th>Wins</th>\n",
              "      <th>Win %</th>\n",
              "      <th>Goals</th>\n",
              "      <th>G/M</th>\n",
              "      <th>Clean Sheets</th>\n",
              "      <th>Clean Sheets%</th>\n",
              "      <th>Successful Passes</th>\n",
              "      <th>SP/M</th>\n",
              "      <th>...</th>\n",
              "      <th>Touches</th>\n",
              "      <th>T/M</th>\n",
              "      <th>Crosses</th>\n",
              "      <th>C/M</th>\n",
              "      <th>Red Cards</th>\n",
              "      <th>Shots</th>\n",
              "      <th>S/M</th>\n",
              "      <th>Total Points</th>\n",
              "      <th>Rank</th>\n",
              "      <th>GD</th>\n",
              "    </tr>\n",
              "  </thead>\n",
              "  <tbody>\n",
              "    <tr>\n",
              "      <th>0</th>\n",
              "      <td>Chennaiyin FC</td>\n",
              "      <td>16</td>\n",
              "      <td>7</td>\n",
              "      <td>43.750000</td>\n",
              "      <td>27</td>\n",
              "      <td>1.687500</td>\n",
              "      <td>3</td>\n",
              "      <td>18.750000</td>\n",
              "      <td>4695</td>\n",
              "      <td>293.437500</td>\n",
              "      <td>...</td>\n",
              "      <td>9071</td>\n",
              "      <td>566.937500</td>\n",
              "      <td>242</td>\n",
              "      <td>15.125000</td>\n",
              "      <td>3</td>\n",
              "      <td>223</td>\n",
              "      <td>13.937500</td>\n",
              "      <td>26</td>\n",
              "      <td>0</td>\n",
              "      <td>4</td>\n",
              "    </tr>\n",
              "    <tr>\n",
              "      <th>1</th>\n",
              "      <td>FC Goa</td>\n",
              "      <td>16</td>\n",
              "      <td>6</td>\n",
              "      <td>37.500000</td>\n",
              "      <td>21</td>\n",
              "      <td>1.312500</td>\n",
              "      <td>7</td>\n",
              "      <td>43.750000</td>\n",
              "      <td>5133</td>\n",
              "      <td>320.812500</td>\n",
              "      <td>...</td>\n",
              "      <td>9693</td>\n",
              "      <td>605.812500</td>\n",
              "      <td>256</td>\n",
              "      <td>16.000000</td>\n",
              "      <td>1</td>\n",
              "      <td>228</td>\n",
              "      <td>14.250000</td>\n",
              "      <td>24</td>\n",
              "      <td>0</td>\n",
              "      <td>9</td>\n",
              "    </tr>\n",
              "    <tr>\n",
              "      <th>2</th>\n",
              "      <td>ATK FC</td>\n",
              "      <td>17</td>\n",
              "      <td>6</td>\n",
              "      <td>35.294118</td>\n",
              "      <td>17</td>\n",
              "      <td>1.000000</td>\n",
              "      <td>8</td>\n",
              "      <td>47.058824</td>\n",
              "      <td>4312</td>\n",
              "      <td>253.647059</td>\n",
              "      <td>...</td>\n",
              "      <td>9163</td>\n",
              "      <td>539.000000</td>\n",
              "      <td>277</td>\n",
              "      <td>16.294118</td>\n",
              "      <td>3</td>\n",
              "      <td>175</td>\n",
              "      <td>10.294118</td>\n",
              "      <td>27</td>\n",
              "      <td>1</td>\n",
              "      <td>3</td>\n",
              "    </tr>\n",
              "    <tr>\n",
              "      <th>3</th>\n",
              "      <td>Delhi Dynamos FC</td>\n",
              "      <td>14</td>\n",
              "      <td>5</td>\n",
              "      <td>35.714286</td>\n",
              "      <td>16</td>\n",
              "      <td>1.142857</td>\n",
              "      <td>5</td>\n",
              "      <td>35.714286</td>\n",
              "      <td>4074</td>\n",
              "      <td>291.000000</td>\n",
              "      <td>...</td>\n",
              "      <td>7936</td>\n",
              "      <td>566.857143</td>\n",
              "      <td>267</td>\n",
              "      <td>19.071429</td>\n",
              "      <td>2</td>\n",
              "      <td>168</td>\n",
              "      <td>12.000000</td>\n",
              "      <td>21</td>\n",
              "      <td>0</td>\n",
              "      <td>2</td>\n",
              "    </tr>\n",
              "    <tr>\n",
              "      <th>4</th>\n",
              "      <td>Kerala Blasters FC</td>\n",
              "      <td>17</td>\n",
              "      <td>4</td>\n",
              "      <td>23.529412</td>\n",
              "      <td>13</td>\n",
              "      <td>0.764706</td>\n",
              "      <td>8</td>\n",
              "      <td>47.058824</td>\n",
              "      <td>4716</td>\n",
              "      <td>277.411765</td>\n",
              "      <td>...</td>\n",
              "      <td>9511</td>\n",
              "      <td>559.470588</td>\n",
              "      <td>323</td>\n",
              "      <td>19.000000</td>\n",
              "      <td>1</td>\n",
              "      <td>189</td>\n",
              "      <td>11.117647</td>\n",
              "      <td>16</td>\n",
              "      <td>0</td>\n",
              "      <td>-2</td>\n",
              "    </tr>\n",
              "  </tbody>\n",
              "</table>\n",
              "<p>5 rows × 23 columns</p>\n",
              "</div>\n",
              "      <button class=\"colab-df-convert\" onclick=\"convertToInteractive('df-76d2151e-83b4-4936-bdb6-aa1f53460ae2')\"\n",
              "              title=\"Convert this dataframe to an interactive table.\"\n",
              "              style=\"display:none;\">\n",
              "        \n",
              "  <svg xmlns=\"http://www.w3.org/2000/svg\" height=\"24px\"viewBox=\"0 0 24 24\"\n",
              "       width=\"24px\">\n",
              "    <path d=\"M0 0h24v24H0V0z\" fill=\"none\"/>\n",
              "    <path d=\"M18.56 5.44l.94 2.06.94-2.06 2.06-.94-2.06-.94-.94-2.06-.94 2.06-2.06.94zm-11 1L8.5 8.5l.94-2.06 2.06-.94-2.06-.94L8.5 2.5l-.94 2.06-2.06.94zm10 10l.94 2.06.94-2.06 2.06-.94-2.06-.94-.94-2.06-.94 2.06-2.06.94z\"/><path d=\"M17.41 7.96l-1.37-1.37c-.4-.4-.92-.59-1.43-.59-.52 0-1.04.2-1.43.59L10.3 9.45l-7.72 7.72c-.78.78-.78 2.05 0 2.83L4 21.41c.39.39.9.59 1.41.59.51 0 1.02-.2 1.41-.59l7.78-7.78 2.81-2.81c.8-.78.8-2.07 0-2.86zM5.41 20L4 18.59l7.72-7.72 1.47 1.35L5.41 20z\"/>\n",
              "  </svg>\n",
              "      </button>\n",
              "      \n",
              "  <style>\n",
              "    .colab-df-container {\n",
              "      display:flex;\n",
              "      flex-wrap:wrap;\n",
              "      gap: 12px;\n",
              "    }\n",
              "\n",
              "    .colab-df-convert {\n",
              "      background-color: #E8F0FE;\n",
              "      border: none;\n",
              "      border-radius: 50%;\n",
              "      cursor: pointer;\n",
              "      display: none;\n",
              "      fill: #1967D2;\n",
              "      height: 32px;\n",
              "      padding: 0 0 0 0;\n",
              "      width: 32px;\n",
              "    }\n",
              "\n",
              "    .colab-df-convert:hover {\n",
              "      background-color: #E2EBFA;\n",
              "      box-shadow: 0px 1px 2px rgba(60, 64, 67, 0.3), 0px 1px 3px 1px rgba(60, 64, 67, 0.15);\n",
              "      fill: #174EA6;\n",
              "    }\n",
              "\n",
              "    [theme=dark] .colab-df-convert {\n",
              "      background-color: #3B4455;\n",
              "      fill: #D2E3FC;\n",
              "    }\n",
              "\n",
              "    [theme=dark] .colab-df-convert:hover {\n",
              "      background-color: #434B5C;\n",
              "      box-shadow: 0px 1px 3px 1px rgba(0, 0, 0, 0.15);\n",
              "      filter: drop-shadow(0px 1px 2px rgba(0, 0, 0, 0.3));\n",
              "      fill: #FFFFFF;\n",
              "    }\n",
              "  </style>\n",
              "\n",
              "      <script>\n",
              "        const buttonEl =\n",
              "          document.querySelector('#df-76d2151e-83b4-4936-bdb6-aa1f53460ae2 button.colab-df-convert');\n",
              "        buttonEl.style.display =\n",
              "          google.colab.kernel.accessAllowed ? 'block' : 'none';\n",
              "\n",
              "        async function convertToInteractive(key) {\n",
              "          const element = document.querySelector('#df-76d2151e-83b4-4936-bdb6-aa1f53460ae2');\n",
              "          const dataTable =\n",
              "            await google.colab.kernel.invokeFunction('convertToInteractive',\n",
              "                                                     [key], {});\n",
              "          if (!dataTable) return;\n",
              "\n",
              "          const docLinkHtml = 'Like what you see? Visit the ' +\n",
              "            '<a target=\"_blank\" href=https://colab.research.google.com/notebooks/data_table.ipynb>data table notebook</a>'\n",
              "            + ' to learn more about interactive tables.';\n",
              "          element.innerHTML = '';\n",
              "          dataTable['output_type'] = 'display_data';\n",
              "          await google.colab.output.renderOutput(dataTable, element);\n",
              "          const docLink = document.createElement('div');\n",
              "          docLink.innerHTML = docLinkHtml;\n",
              "          element.appendChild(docLink);\n",
              "        }\n",
              "      </script>\n",
              "    </div>\n",
              "  </div>\n",
              "  "
            ]
          },
          "metadata": {},
          "execution_count": 6
        }
      ]
    },
    {
      "cell_type": "code",
      "source": [
        "dataframe.describe()"
      ],
      "metadata": {
        "colab": {
          "base_uri": "https://localhost:8080/",
          "height": 411
        },
        "id": "IaEIK-N9-3mO",
        "outputId": "20d86040-54ef-4556-9b14-1fa9490bcba9"
      },
      "execution_count": 7,
      "outputs": [
        {
          "output_type": "execute_result",
          "data": {
            "text/plain": [
              "       Games Played      Wins      Win %      Goals       G/M  Clean Sheets  \\\n",
              "count       8.00000  8.000000   8.000000   8.000000  8.000000      8.000000   \n",
              "mean       15.25000  4.875000  31.794905  16.125000  1.050945      6.000000   \n",
              "std         1.38873  1.356203   7.555880   5.514591  0.318939      1.690309   \n",
              "min        14.00000  3.000000  21.428571  11.000000  0.764706      3.000000   \n",
              "25%        14.00000  4.000000  27.310924  12.000000  0.839286      5.000000   \n",
              "50%        15.00000  4.500000  31.932773  14.500000  0.928571      6.000000   \n",
              "75%        16.25000  6.000000  36.160714  18.000000  1.185268      7.250000   \n",
              "max        17.00000  7.000000  43.750000  27.000000  1.687500      8.000000   \n",
              "\n",
              "       Clean Sheets%  Successful Passes        SP/M     Draws  ...  \\\n",
              "count       8.000000           8.000000    8.000000  8.000000  ...   \n",
              "mean       39.220063        4480.125000  294.815389  5.500000  ...   \n",
              "std         9.361576         365.756139   23.258759  1.690309  ...   \n",
              "min        18.750000        4021.000000  253.647059  4.000000  ...   \n",
              "25%        35.714286        4252.500000  284.763655  4.000000  ...   \n",
              "50%        42.857143        4445.000000  292.218750  5.500000  ...   \n",
              "75%        44.577206        4700.250000  316.392857  6.000000  ...   \n",
              "max        47.058824        5133.000000  320.812500  9.000000  ...   \n",
              "\n",
              "           Touches         T/M     Crosses        C/M  Red Cards       Shots  \\\n",
              "count     8.000000    8.000000    8.000000   8.000000   8.000000    8.000000   \n",
              "mean   8748.000000  574.491859  267.250000  17.588104   1.750000  188.875000   \n",
              "std     707.174054   23.886609   28.937124   1.879071   1.164965   24.723832   \n",
              "min    7936.000000  539.000000  225.000000  15.125000   0.000000  159.000000   \n",
              "25%    8071.500000  565.010504  252.500000  16.053571   1.000000  173.250000   \n",
              "50%    8812.500000  567.075893  269.000000  17.647059   1.500000  184.500000   \n",
              "75%    9250.000000  586.185268  277.000000  19.142857   3.000000  197.500000   \n",
              "max    9693.000000  611.000000  323.000000  19.785714   3.000000  228.000000   \n",
              "\n",
              "             S/M  Total Points      Rank        GD  \n",
              "count   8.000000      8.000000  8.000000  8.000000  \n",
              "mean   12.414194     20.125000  0.125000  0.000000  \n",
              "std     1.436706      4.998214  0.353553  5.656854  \n",
              "min    10.294118     15.000000  0.000000 -9.000000  \n",
              "25%    11.297269     16.000000  0.000000 -2.750000  \n",
              "50%    12.464286     18.500000  0.000000  0.000000  \n",
              "75%    13.555804     24.500000  0.000000  3.250000  \n",
              "max    14.250000     27.000000  1.000000  9.000000  \n",
              "\n",
              "[8 rows x 22 columns]"
            ],
            "text/html": [
              "\n",
              "  <div id=\"df-ee7c35dd-3bac-4c3e-a07d-c91c0815be5d\">\n",
              "    <div class=\"colab-df-container\">\n",
              "      <div>\n",
              "<style scoped>\n",
              "    .dataframe tbody tr th:only-of-type {\n",
              "        vertical-align: middle;\n",
              "    }\n",
              "\n",
              "    .dataframe tbody tr th {\n",
              "        vertical-align: top;\n",
              "    }\n",
              "\n",
              "    .dataframe thead th {\n",
              "        text-align: right;\n",
              "    }\n",
              "</style>\n",
              "<table border=\"1\" class=\"dataframe\">\n",
              "  <thead>\n",
              "    <tr style=\"text-align: right;\">\n",
              "      <th></th>\n",
              "      <th>Games Played</th>\n",
              "      <th>Wins</th>\n",
              "      <th>Win %</th>\n",
              "      <th>Goals</th>\n",
              "      <th>G/M</th>\n",
              "      <th>Clean Sheets</th>\n",
              "      <th>Clean Sheets%</th>\n",
              "      <th>Successful Passes</th>\n",
              "      <th>SP/M</th>\n",
              "      <th>Draws</th>\n",
              "      <th>...</th>\n",
              "      <th>Touches</th>\n",
              "      <th>T/M</th>\n",
              "      <th>Crosses</th>\n",
              "      <th>C/M</th>\n",
              "      <th>Red Cards</th>\n",
              "      <th>Shots</th>\n",
              "      <th>S/M</th>\n",
              "      <th>Total Points</th>\n",
              "      <th>Rank</th>\n",
              "      <th>GD</th>\n",
              "    </tr>\n",
              "  </thead>\n",
              "  <tbody>\n",
              "    <tr>\n",
              "      <th>count</th>\n",
              "      <td>8.00000</td>\n",
              "      <td>8.000000</td>\n",
              "      <td>8.000000</td>\n",
              "      <td>8.000000</td>\n",
              "      <td>8.000000</td>\n",
              "      <td>8.000000</td>\n",
              "      <td>8.000000</td>\n",
              "      <td>8.000000</td>\n",
              "      <td>8.000000</td>\n",
              "      <td>8.000000</td>\n",
              "      <td>...</td>\n",
              "      <td>8.000000</td>\n",
              "      <td>8.000000</td>\n",
              "      <td>8.000000</td>\n",
              "      <td>8.000000</td>\n",
              "      <td>8.000000</td>\n",
              "      <td>8.000000</td>\n",
              "      <td>8.000000</td>\n",
              "      <td>8.000000</td>\n",
              "      <td>8.000000</td>\n",
              "      <td>8.000000</td>\n",
              "    </tr>\n",
              "    <tr>\n",
              "      <th>mean</th>\n",
              "      <td>15.25000</td>\n",
              "      <td>4.875000</td>\n",
              "      <td>31.794905</td>\n",
              "      <td>16.125000</td>\n",
              "      <td>1.050945</td>\n",
              "      <td>6.000000</td>\n",
              "      <td>39.220063</td>\n",
              "      <td>4480.125000</td>\n",
              "      <td>294.815389</td>\n",
              "      <td>5.500000</td>\n",
              "      <td>...</td>\n",
              "      <td>8748.000000</td>\n",
              "      <td>574.491859</td>\n",
              "      <td>267.250000</td>\n",
              "      <td>17.588104</td>\n",
              "      <td>1.750000</td>\n",
              "      <td>188.875000</td>\n",
              "      <td>12.414194</td>\n",
              "      <td>20.125000</td>\n",
              "      <td>0.125000</td>\n",
              "      <td>0.000000</td>\n",
              "    </tr>\n",
              "    <tr>\n",
              "      <th>std</th>\n",
              "      <td>1.38873</td>\n",
              "      <td>1.356203</td>\n",
              "      <td>7.555880</td>\n",
              "      <td>5.514591</td>\n",
              "      <td>0.318939</td>\n",
              "      <td>1.690309</td>\n",
              "      <td>9.361576</td>\n",
              "      <td>365.756139</td>\n",
              "      <td>23.258759</td>\n",
              "      <td>1.690309</td>\n",
              "      <td>...</td>\n",
              "      <td>707.174054</td>\n",
              "      <td>23.886609</td>\n",
              "      <td>28.937124</td>\n",
              "      <td>1.879071</td>\n",
              "      <td>1.164965</td>\n",
              "      <td>24.723832</td>\n",
              "      <td>1.436706</td>\n",
              "      <td>4.998214</td>\n",
              "      <td>0.353553</td>\n",
              "      <td>5.656854</td>\n",
              "    </tr>\n",
              "    <tr>\n",
              "      <th>min</th>\n",
              "      <td>14.00000</td>\n",
              "      <td>3.000000</td>\n",
              "      <td>21.428571</td>\n",
              "      <td>11.000000</td>\n",
              "      <td>0.764706</td>\n",
              "      <td>3.000000</td>\n",
              "      <td>18.750000</td>\n",
              "      <td>4021.000000</td>\n",
              "      <td>253.647059</td>\n",
              "      <td>4.000000</td>\n",
              "      <td>...</td>\n",
              "      <td>7936.000000</td>\n",
              "      <td>539.000000</td>\n",
              "      <td>225.000000</td>\n",
              "      <td>15.125000</td>\n",
              "      <td>0.000000</td>\n",
              "      <td>159.000000</td>\n",
              "      <td>10.294118</td>\n",
              "      <td>15.000000</td>\n",
              "      <td>0.000000</td>\n",
              "      <td>-9.000000</td>\n",
              "    </tr>\n",
              "    <tr>\n",
              "      <th>25%</th>\n",
              "      <td>14.00000</td>\n",
              "      <td>4.000000</td>\n",
              "      <td>27.310924</td>\n",
              "      <td>12.000000</td>\n",
              "      <td>0.839286</td>\n",
              "      <td>5.000000</td>\n",
              "      <td>35.714286</td>\n",
              "      <td>4252.500000</td>\n",
              "      <td>284.763655</td>\n",
              "      <td>4.000000</td>\n",
              "      <td>...</td>\n",
              "      <td>8071.500000</td>\n",
              "      <td>565.010504</td>\n",
              "      <td>252.500000</td>\n",
              "      <td>16.053571</td>\n",
              "      <td>1.000000</td>\n",
              "      <td>173.250000</td>\n",
              "      <td>11.297269</td>\n",
              "      <td>16.000000</td>\n",
              "      <td>0.000000</td>\n",
              "      <td>-2.750000</td>\n",
              "    </tr>\n",
              "    <tr>\n",
              "      <th>50%</th>\n",
              "      <td>15.00000</td>\n",
              "      <td>4.500000</td>\n",
              "      <td>31.932773</td>\n",
              "      <td>14.500000</td>\n",
              "      <td>0.928571</td>\n",
              "      <td>6.000000</td>\n",
              "      <td>42.857143</td>\n",
              "      <td>4445.000000</td>\n",
              "      <td>292.218750</td>\n",
              "      <td>5.500000</td>\n",
              "      <td>...</td>\n",
              "      <td>8812.500000</td>\n",
              "      <td>567.075893</td>\n",
              "      <td>269.000000</td>\n",
              "      <td>17.647059</td>\n",
              "      <td>1.500000</td>\n",
              "      <td>184.500000</td>\n",
              "      <td>12.464286</td>\n",
              "      <td>18.500000</td>\n",
              "      <td>0.000000</td>\n",
              "      <td>0.000000</td>\n",
              "    </tr>\n",
              "    <tr>\n",
              "      <th>75%</th>\n",
              "      <td>16.25000</td>\n",
              "      <td>6.000000</td>\n",
              "      <td>36.160714</td>\n",
              "      <td>18.000000</td>\n",
              "      <td>1.185268</td>\n",
              "      <td>7.250000</td>\n",
              "      <td>44.577206</td>\n",
              "      <td>4700.250000</td>\n",
              "      <td>316.392857</td>\n",
              "      <td>6.000000</td>\n",
              "      <td>...</td>\n",
              "      <td>9250.000000</td>\n",
              "      <td>586.185268</td>\n",
              "      <td>277.000000</td>\n",
              "      <td>19.142857</td>\n",
              "      <td>3.000000</td>\n",
              "      <td>197.500000</td>\n",
              "      <td>13.555804</td>\n",
              "      <td>24.500000</td>\n",
              "      <td>0.000000</td>\n",
              "      <td>3.250000</td>\n",
              "    </tr>\n",
              "    <tr>\n",
              "      <th>max</th>\n",
              "      <td>17.00000</td>\n",
              "      <td>7.000000</td>\n",
              "      <td>43.750000</td>\n",
              "      <td>27.000000</td>\n",
              "      <td>1.687500</td>\n",
              "      <td>8.000000</td>\n",
              "      <td>47.058824</td>\n",
              "      <td>5133.000000</td>\n",
              "      <td>320.812500</td>\n",
              "      <td>9.000000</td>\n",
              "      <td>...</td>\n",
              "      <td>9693.000000</td>\n",
              "      <td>611.000000</td>\n",
              "      <td>323.000000</td>\n",
              "      <td>19.785714</td>\n",
              "      <td>3.000000</td>\n",
              "      <td>228.000000</td>\n",
              "      <td>14.250000</td>\n",
              "      <td>27.000000</td>\n",
              "      <td>1.000000</td>\n",
              "      <td>9.000000</td>\n",
              "    </tr>\n",
              "  </tbody>\n",
              "</table>\n",
              "<p>8 rows × 22 columns</p>\n",
              "</div>\n",
              "      <button class=\"colab-df-convert\" onclick=\"convertToInteractive('df-ee7c35dd-3bac-4c3e-a07d-c91c0815be5d')\"\n",
              "              title=\"Convert this dataframe to an interactive table.\"\n",
              "              style=\"display:none;\">\n",
              "        \n",
              "  <svg xmlns=\"http://www.w3.org/2000/svg\" height=\"24px\"viewBox=\"0 0 24 24\"\n",
              "       width=\"24px\">\n",
              "    <path d=\"M0 0h24v24H0V0z\" fill=\"none\"/>\n",
              "    <path d=\"M18.56 5.44l.94 2.06.94-2.06 2.06-.94-2.06-.94-.94-2.06-.94 2.06-2.06.94zm-11 1L8.5 8.5l.94-2.06 2.06-.94-2.06-.94L8.5 2.5l-.94 2.06-2.06.94zm10 10l.94 2.06.94-2.06 2.06-.94-2.06-.94-.94-2.06-.94 2.06-2.06.94z\"/><path d=\"M17.41 7.96l-1.37-1.37c-.4-.4-.92-.59-1.43-.59-.52 0-1.04.2-1.43.59L10.3 9.45l-7.72 7.72c-.78.78-.78 2.05 0 2.83L4 21.41c.39.39.9.59 1.41.59.51 0 1.02-.2 1.41-.59l7.78-7.78 2.81-2.81c.8-.78.8-2.07 0-2.86zM5.41 20L4 18.59l7.72-7.72 1.47 1.35L5.41 20z\"/>\n",
              "  </svg>\n",
              "      </button>\n",
              "      \n",
              "  <style>\n",
              "    .colab-df-container {\n",
              "      display:flex;\n",
              "      flex-wrap:wrap;\n",
              "      gap: 12px;\n",
              "    }\n",
              "\n",
              "    .colab-df-convert {\n",
              "      background-color: #E8F0FE;\n",
              "      border: none;\n",
              "      border-radius: 50%;\n",
              "      cursor: pointer;\n",
              "      display: none;\n",
              "      fill: #1967D2;\n",
              "      height: 32px;\n",
              "      padding: 0 0 0 0;\n",
              "      width: 32px;\n",
              "    }\n",
              "\n",
              "    .colab-df-convert:hover {\n",
              "      background-color: #E2EBFA;\n",
              "      box-shadow: 0px 1px 2px rgba(60, 64, 67, 0.3), 0px 1px 3px 1px rgba(60, 64, 67, 0.15);\n",
              "      fill: #174EA6;\n",
              "    }\n",
              "\n",
              "    [theme=dark] .colab-df-convert {\n",
              "      background-color: #3B4455;\n",
              "      fill: #D2E3FC;\n",
              "    }\n",
              "\n",
              "    [theme=dark] .colab-df-convert:hover {\n",
              "      background-color: #434B5C;\n",
              "      box-shadow: 0px 1px 3px 1px rgba(0, 0, 0, 0.15);\n",
              "      filter: drop-shadow(0px 1px 2px rgba(0, 0, 0, 0.3));\n",
              "      fill: #FFFFFF;\n",
              "    }\n",
              "  </style>\n",
              "\n",
              "      <script>\n",
              "        const buttonEl =\n",
              "          document.querySelector('#df-ee7c35dd-3bac-4c3e-a07d-c91c0815be5d button.colab-df-convert');\n",
              "        buttonEl.style.display =\n",
              "          google.colab.kernel.accessAllowed ? 'block' : 'none';\n",
              "\n",
              "        async function convertToInteractive(key) {\n",
              "          const element = document.querySelector('#df-ee7c35dd-3bac-4c3e-a07d-c91c0815be5d');\n",
              "          const dataTable =\n",
              "            await google.colab.kernel.invokeFunction('convertToInteractive',\n",
              "                                                     [key], {});\n",
              "          if (!dataTable) return;\n",
              "\n",
              "          const docLinkHtml = 'Like what you see? Visit the ' +\n",
              "            '<a target=\"_blank\" href=https://colab.research.google.com/notebooks/data_table.ipynb>data table notebook</a>'\n",
              "            + ' to learn more about interactive tables.';\n",
              "          element.innerHTML = '';\n",
              "          dataTable['output_type'] = 'display_data';\n",
              "          await google.colab.output.renderOutput(dataTable, element);\n",
              "          const docLink = document.createElement('div');\n",
              "          docLink.innerHTML = docLinkHtml;\n",
              "          element.appendChild(docLink);\n",
              "        }\n",
              "      </script>\n",
              "    </div>\n",
              "  </div>\n",
              "  "
            ]
          },
          "metadata": {},
          "execution_count": 7
        }
      ]
    },
    {
      "cell_type": "code",
      "source": [
        "dataframe.shape"
      ],
      "metadata": {
        "colab": {
          "base_uri": "https://localhost:8080/"
        },
        "id": "wO9mvwiHDDE2",
        "outputId": "d846f416-7dc0-49af-ca7f-0ef3c168b072"
      },
      "execution_count": 8,
      "outputs": [
        {
          "output_type": "execute_result",
          "data": {
            "text/plain": [
              "(8, 23)"
            ]
          },
          "metadata": {},
          "execution_count": 8
        }
      ]
    },
    {
      "cell_type": "code",
      "source": [
        "dataframe.info()"
      ],
      "metadata": {
        "colab": {
          "base_uri": "https://localhost:8080/"
        },
        "id": "pWi8dyVIDI-E",
        "outputId": "cbfbb5ab-e700-49ec-a117-c89b512aee4e"
      },
      "execution_count": 9,
      "outputs": [
        {
          "output_type": "stream",
          "name": "stdout",
          "text": [
            "<class 'pandas.core.frame.DataFrame'>\n",
            "RangeIndex: 8 entries, 0 to 7\n",
            "Data columns (total 23 columns):\n",
            " #   Column             Non-Null Count  Dtype  \n",
            "---  ------             --------------  -----  \n",
            " 0   Club Name          8 non-null      object \n",
            " 1   Games Played       8 non-null      int64  \n",
            " 2   Wins               8 non-null      int64  \n",
            " 3   Win %              8 non-null      float64\n",
            " 4   Goals              8 non-null      int64  \n",
            " 5   G/M                8 non-null      float64\n",
            " 6   Clean Sheets       8 non-null      int64  \n",
            " 7   Clean Sheets%      8 non-null      float64\n",
            " 8   Successful Passes  8 non-null      int64  \n",
            " 9   SP/M               8 non-null      float64\n",
            " 10  Draws              8 non-null      int64  \n",
            " 11  Fouls              8 non-null      int64  \n",
            " 12  F/M                8 non-null      float64\n",
            " 13  Touches            8 non-null      int64  \n",
            " 14  T/M                8 non-null      float64\n",
            " 15  Crosses            8 non-null      int64  \n",
            " 16  C/M                8 non-null      float64\n",
            " 17  Red Cards          8 non-null      int64  \n",
            " 18  Shots              8 non-null      int64  \n",
            " 19  S/M                8 non-null      float64\n",
            " 20  Total Points       8 non-null      int64  \n",
            " 21  Rank               8 non-null      int64  \n",
            " 22  GD                 8 non-null      int64  \n",
            "dtypes: float64(8), int64(14), object(1)\n",
            "memory usage: 1.6+ KB\n"
          ]
        }
      ]
    },
    {
      "cell_type": "code",
      "source": [
        "del dataframe['Games Played'];\n",
        "del dataframe['Goals'];\n",
        "del dataframe['Successful Passes'];\n",
        "del dataframe['Touches'];\n",
        "del dataframe['Crosses'];\n",
        "del dataframe['Shots'];\n",
        "\n"
      ],
      "metadata": {
        "id": "znxROYSXInq4"
      },
      "execution_count": 10,
      "outputs": []
    },
    {
      "cell_type": "code",
      "source": [
        "del dataframe['Red Cards'];"
      ],
      "metadata": {
        "id": "mQKa8owiLG_9"
      },
      "execution_count": 11,
      "outputs": []
    },
    {
      "cell_type": "code",
      "source": [
        "correlation_matrix = dataframe.corr()\n",
        "# annot = True to print the values inside the square\n",
        "sns.heatmap(data=correlation_matrix, annot=True)"
      ],
      "metadata": {
        "colab": {
          "base_uri": "https://localhost:8080/",
          "height": 351
        },
        "id": "zLen_x37DUHE",
        "outputId": "db8aa07b-7134-4036-c29a-46f9e0039c01"
      },
      "execution_count": 12,
      "outputs": [
        {
          "output_type": "execute_result",
          "data": {
            "text/plain": [
              "<Axes: >"
            ]
          },
          "metadata": {},
          "execution_count": 12
        },
        {
          "output_type": "display_data",
          "data": {
            "text/plain": [
              "<Figure size 432x288 with 2 Axes>"
            ],
            "image/png": "[encoded data removed]"
          },
          "metadata": {
            "needs_background": "light"
          }
        }
      ]
    },
    {
      "cell_type": "code",
      "source": [
        "sns.lineplot(x=\"Rank\", y=\"S/M\", data=dataframe)\n",
        "plt.show()"
      ],
      "metadata": {
        "id": "AbO5fcDw71ke",
        "colab": {
          "base_uri": "https://localhost:8080/",
          "height": 279
        },
        "outputId": "14eb93b8-d2cb-445b-c71d-dde49e5f3b24"
      },
      "execution_count": 13,
      "outputs": [
        {
          "output_type": "display_data",
          "data": {
            "text/plain": [
              "<Figure size 432x288 with 1 Axes>"
            ],
            "image/png": "[encoded data removed]"
          },
          "metadata": {
            "needs_background": "light"
          }
        }
      ]
    },
    {
      "cell_type": "code",
      "source": [
        "from sklearnex import patch_sklearn\n",
        "patch_sklearn()\n",
        "\n",
        "from sklearn.linear_model import LinearRegression\n",
        "model = LinearRegression()"
      ],
      "metadata": {
        "id": "PGmMIugr_WNi",
        "colab": {
          "base_uri": "https://localhost:8080/"
        },
        "outputId": "15ab5b5f-001a-40dd-883e-ef60b302e22d"
      },
      "execution_count": 14,
      "outputs": [
        {
          "output_type": "stream",
          "name": "stderr",
          "text": [
            "Intel(R) Extension for Scikit-learn* enabled (https://github.com/intel/scikit-learn-intelex)\n"
          ]
        }
      ]
    },
    {
      "cell_type": "code",
      "source": [
        "X = dataframe[['G/M','Fouls','SP/M','T/M','Total Points','GD']]"
      ],
      "metadata": {
        "id": "fhJ70zK4B5DM"
      },
      "execution_count": 15,
      "outputs": []
    },
    {
      "cell_type": "code",
      "source": [
        "y = dataframe[['Rank']]"
      ],
      "metadata": {
        "id": "SIJ0FPeXCa3S"
      },
      "execution_count": 16,
      "outputs": []
    },
    {
      "cell_type": "code",
      "source": [
        "from sklearnex import patch_sklearn\n",
        "patch_sklearn()\n",
        "\n",
        "from sklearn.model_selection import train_test_split\n"
      ],
      "metadata": {
        "id": "YOGgBlJvCpy6",
        "colab": {
          "base_uri": "https://localhost:8080/"
        },
        "outputId": "d15d322e-d443-4dbd-ac61-5ddedda80aef"
      },
      "execution_count": 17,
      "outputs": [
        {
          "output_type": "stream",
          "name": "stderr",
          "text": [
            "Intel(R) Extension for Scikit-learn* enabled (https://github.com/intel/scikit-learn-intelex)\n"
          ]
        }
      ]
    },
    {
      "cell_type": "code",
      "source": [
        "X_train, X_test, y_train, y_test = train_test_split(X, y, test_size=0.3, random_state=101)"
      ],
      "metadata": {
        "id": "iwQBaJ76Cp_L"
      },
      "execution_count": 18,
      "outputs": []
    },
    {
      "cell_type": "code",
      "source": [
        "lm = LinearRegression()\n",
        "lm.fit(X_train,y_train)"
      ],
      "metadata": {
        "colab": {
          "base_uri": "https://localhost:8080/",
          "height": 74
        },
        "id": "OFBuRZHYCqAu",
        "outputId": "da07991d-2c65-474c-dff4-528df60bce5d"
      },
      "execution_count": 19,
      "outputs": [
        {
          "output_type": "execute_result",
          "data": {
            "text/plain": [
              "LinearRegression()"
            ],
            "text/html": [
              "<style>#sk-container-id-1 {color: black;background-color: white;}#sk-container-id-1 pre{padding: 0;}#sk-container-id-1 div.sk-toggleable {background-color: white;}#sk-container-id-1 label.sk-toggleable__label {cursor: pointer;display: block;width: 100%;margin-bottom: 0;padding: 0.3em;box-sizing: border-box;text-align: center;}#sk-container-id-1 label.sk-toggleable__label-arrow:before {content: \"▸\";float: left;margin-right: 0.25em;color: #696969;}#sk-container-id-1 label.sk-toggleable__label-arrow:hover:before {color: black;}#sk-container-id-1 div.sk-estimator:hover label.sk-toggleable__label-arrow:before {color: black;}#sk-container-id-1 div.sk-toggleable__content {max-height: 0;max-width: 0;overflow: hidden;text-align: left;background-color: #f0f8ff;}#sk-container-id-1 div.sk-toggleable__content pre {margin: 0.2em;color: black;border-radius: 0.25em;background-color: #f0f8ff;}#sk-container-id-1 input.sk-toggleable__control:checked~div.sk-toggleable__content {max-height: 200px;max-width: 100%;overflow: auto;}#sk-container-id-1 input.sk-toggleable__control:checked~label.sk-toggleable__label-arrow:before {content: \"▾\";}#sk-container-id-1 div.sk-estimator input.sk-toggleable__control:checked~label.sk-toggleable__label {background-color: #d4ebff;}#sk-container-id-1 div.sk-label input.sk-toggleable__control:checked~label.sk-toggleable__label {background-color: #d4ebff;}#sk-container-id-1 input.sk-hidden--visually {border: 0;clip: rect(1px 1px 1px 1px);clip: rect(1px, 1px, 1px, 1px);height: 1px;margin: -1px;overflow: hidden;padding: 0;position: absolute;width: 1px;}#sk-container-id-1 div.sk-estimator {font-family: monospace;background-color: #f0f8ff;border: 1px dotted black;border-radius: 0.25em;box-sizing: border-box;margin-bottom: 0.5em;}#sk-container-id-1 div.sk-estimator:hover {background-color: #d4ebff;}#sk-container-id-1 div.sk-parallel-item::after {content: \"\";width: 100%;border-bottom: 1px solid gray;flex-grow: 1;}#sk-container-id-1 div.sk-label:hover label.sk-toggleable__label {background-color: #d4ebff;}#sk-container-id-1 div.sk-serial::before {content: \"\";position: absolute;border-left: 1px solid gray;box-sizing: border-box;top: 0;bottom: 0;left: 50%;z-index: 0;}#sk-container-id-1 div.sk-serial {display: flex;flex-direction: column;align-items: center;background-color: white;padding-right: 0.2em;padding-left: 0.2em;position: relative;}#sk-container-id-1 div.sk-item {position: relative;z-index: 1;}#sk-container-id-1 div.sk-parallel {display: flex;align-items: stretch;justify-content: center;background-color: white;position: relative;}#sk-container-id-1 div.sk-item::before, #sk-container-id-1 div.sk-parallel-item::before {content: \"\";position: absolute;border-left: 1px solid gray;box-sizing: border-box;top: 0;bottom: 0;left: 50%;z-index: -1;}#sk-container-id-1 div.sk-parallel-item {display: flex;flex-direction: column;z-index: 1;position: relative;background-color: white;}#sk-container-id-1 div.sk-parallel-item:first-child::after {align-self: flex-end;width: 50%;}#sk-container-id-1 div.sk-parallel-item:last-child::after {align-self: flex-start;width: 50%;}#sk-container-id-1 div.sk-parallel-item:only-child::after {width: 0;}#sk-container-id-1 div.sk-dashed-wrapped {border: 1px dashed gray;margin: 0 0.4em 0.5em 0.4em;box-sizing: border-box;padding-bottom: 0.4em;background-color: white;}#sk-container-id-1 div.sk-label label {font-family: monospace;font-weight: bold;display: inline-block;line-height: 1.2em;}#sk-container-id-1 div.sk-label-container {text-align: center;}#sk-container-id-1 div.sk-container {/* jupyter's `normalize.less` sets `[hidden] { display: none; }` but bootstrap.min.css set `[hidden] { display: none !important; }` so we also need the `!important` here to be able to override the default hidden behavior on the sphinx rendered scikit-learn.org. See: https://github.com/scikit-learn/scikit-learn/issues/21755 */display: inline-block !important;position: relative;}#sk-container-id-1 div.sk-text-repr-fallback {display: none;}</style><div id=\"sk-container-id-1\" class=\"sk-top-container\"><div class=\"sk-text-repr-fallback\"><pre>LinearRegression()</pre><b>In a Jupyter environment, please rerun this cell to show the HTML representation or trust the notebook. <br />On GitHub, the HTML representation is unable to render, please try loading this page with nbviewer.org.</b></div><div class=\"sk-container\" hidden><div class=\"sk-item\"><div class=\"sk-estimator sk-toggleable\"><input class=\"sk-toggleable__control sk-hidden--visually\" id=\"sk-estimator-id-1\" type=\"checkbox\" checked><label for=\"sk-estimator-id-1\" class=\"sk-toggleable__label sk-toggleable__label-arrow\">LinearRegression</label><div class=\"sk-toggleable__content\"><pre>LinearRegression()</pre></div></div></div></div></div>"
            ]
          },
          "metadata": {},
          "execution_count": 19
        }
      ]
    },
    {
      "cell_type": "code",
      "source": [
        "lm.coef_"
      ],
      "metadata": {
        "colab": {
          "base_uri": "https://localhost:8080/"
        },
        "id": "FAlWuBtzDAlO",
        "outputId": "7c7ab368-4a4f-49bc-91cd-63b5c9703d15"
      },
      "execution_count": 20,
      "outputs": [
        {
          "output_type": "execute_result",
          "data": {
            "text/plain": [
              "array([[0., 0., 0., 0., 0., 0.]])"
            ]
          },
          "metadata": {},
          "execution_count": 20
        }
      ]
    },
    {
      "cell_type": "code",
      "source": [
        "predictions = lm.predict(X_test)"
      ],
      "metadata": {
        "id": "lua9ZoR_DBTI",
        "colab": {
          "base_uri": "https://localhost:8080/"
        },
        "outputId": "1d342578-77ac-43f8-cd98-15f5752be131"
      },
      "execution_count": 21,
      "outputs": [
        {
          "output_type": "stream",
          "name": "stderr",
          "text": [
            "/usr/local/lib/python3.9/dist-packages/sklearn/base.py:439: UserWarning: X does not have valid feature names, but LinearRegression was fitted with feature names\n",
            "  warnings.warn(\n"
          ]
        }
      ]
    },
    {
      "cell_type": "code",
      "source": [
        "plt.scatter(y_test,predictions)\n",
        "plt.xlabel('Y Test')\n",
        "plt.ylabel('Predicted Y')"
      ],
      "metadata": {
        "colab": {
          "base_uri": "https://localhost:8080/",
          "height": 296
        },
        "id": "nVxIijr8DOqK",
        "outputId": "1553241d-d127-4094-e882-ce51cef06542"
      },
      "execution_count": 22,
      "outputs": [
        {
          "output_type": "execute_result",
          "data": {
            "text/plain": [
              "Text(0, 0.5, 'Predicted Y')"
            ]
          },
          "metadata": {},
          "execution_count": 22
        },
        {
          "output_type": "display_data",
          "data": {
            "text/plain": [
              "<Figure size 432x288 with 1 Axes>"
            ],
            "image/png": "[encoded data removed]"
          },
          "metadata": {
            "needs_background": "light"
          }
        }
      ]
    },
    {
      "cell_type": "code",
      "source": [],
      "metadata": {
        "id": "HIgwsoNjELtJ"
      },
      "execution_count": 22,
      "outputs": []
    },
    {
      "cell_type": "code",
      "source": [
        "import matplotlib.pyplot as plt\n",
        "import seaborn as sns\n",
        "%matplotlib inline\n",
        "from sklearnex import patch_sklearn\n",
        "patch_sklearn()\n",
        "\n",
        "\n",
        "from sklearn.neighbors import KNeighborsClassifier\n",
        "from sklearn.metrics import confusion_matrix, accuracy_score\n",
        "from sklearn.model_selection import cross_val_score\n",
        "\n",
        "# Instantiate learning model (k = 3)\n",
        "classifier = KNeighborsClassifier(n_neighbors=3)\n",
        "\n",
        "# Fitting the model\n",
        "classifier.fit(X_train, y_train)\n",
        "\n",
        "# Predicting the Test set results\n",
        "y_pred = classifier.predict(X_test)\n",
        "\n",
        "cm = confusion_matrix(y_test, y_pred)\n",
        "cm\n",
        "\n",
        "\n",
        "accuracy = accuracy_score(y_test, y_pred)*100\n",
        "print('Accuracy of our model is equal ' + str(round(accuracy, 2)) + ' %.')\n",
        "\n",
        "\n"
      ],
      "metadata": {
        "colab": {
          "base_uri": "https://localhost:8080/"
        },
        "id": "jZzOvfW8nMeK",
        "outputId": "12c206b1-d736-4322-b51a-eb1073fb8f8c"
      },
      "execution_count": 23,
      "outputs": [
        {
          "output_type": "stream",
          "name": "stdout",
          "text": [
            "Accuracy of our model is equal 66.67 %.\n"
          ]
        },
        {
          "output_type": "stream",
          "name": "stderr",
          "text": [
            "Intel(R) Extension for Scikit-learn* enabled (https://github.com/intel/scikit-learn-intelex)\n",
            "/usr/local/lib/python3.9/dist-packages/sklearn/neighbors/_classification.py:215: DataConversionWarning: A column-vector y was passed when a 1d array was expected. Please change the shape of y to (n_samples,), for example using ravel().\n",
            "  return self._fit(X, y)\n"
          ]
        }
      ]
    },
    {
      "cell_type": "code",
      "source": [],
      "metadata": {
        "id": "8ALz4pUzxNmv"
      },
      "execution_count": 23,
      "outputs": []
    },
    {
      "cell_type": "code",
      "source": [
        "dataframe1 =pd.read_csv('/content/gdrive/My Drive/Project Datasets - 2015.csv')"
      ],
      "metadata": {
        "id": "h9ZehOrELmW4"
      },
      "execution_count": 24,
      "outputs": []
    },
    {
      "cell_type": "code",
      "source": [
        "dataframe1.head()"
      ],
      "metadata": {
        "colab": {
          "base_uri": "https://localhost:8080/",
          "height": 366
        },
        "id": "5kzvqvOtvYS7",
        "outputId": "96424896-ac38-4e74-aff4-0cbaf0c9cd1c"
      },
      "execution_count": 25,
      "outputs": [
        {
          "output_type": "execute_result",
          "data": {
            "text/plain": [
              "            Club Name  Games Played  Wins      Win %  Goals       G/M  \\\n",
              "0       Chennaiyin FC            17     9  52.941176     32  1.882353   \n",
              "1              FC Goa            17     8  47.058824     34  2.000000   \n",
              "2              ATK FC            16     7  43.750000     28  1.750000   \n",
              "3    Delhi Dynamos FC            16     7  43.750000     19  1.187500   \n",
              "4  Kerala Blasters FC            14     3  21.428571     22  1.571429   \n",
              "\n",
              "   Clean Sheets  Clean Sheet %  Successful Passes  SP/M  ...  Touches  \\\n",
              "0             6      35.294118                  0     0  ...     9893   \n",
              "1             4      23.529412                  0     0  ...     9260   \n",
              "2             1       6.250000                  0     0  ...     8809   \n",
              "3             4      25.000000                  0     0  ...    10037   \n",
              "4             2      14.285714                  0     0  ...     7877   \n",
              "\n",
              "         T/M   Crosses        C/M  Red Cards  Shots        S/M  Total Points  \\\n",
              "0  581.941176      226  13.294118          2    228  13.411765            28   \n",
              "1  544.705882      242  14.235294          0    195  11.470588            28   \n",
              "2  550.562500      279  17.437500          1    187  11.687500            23   \n",
              "3  627.312500      227  14.187500          1    227  14.187500            25   \n",
              "4  562.642857      281  20.071429          3    178  12.714286            13   \n",
              "\n",
              "   Rank  GD  \n",
              "0     1  10  \n",
              "1     0   9  \n",
              "2     0   9  \n",
              "3     0  -2  \n",
              "4     0  -5  \n",
              "\n",
              "[5 rows x 23 columns]"
            ],
            "text/html": [
              "\n",
              "  <div id=\"df-89476331-85e1-4069-8baf-9b758bcc9437\">\n",
              "    <div class=\"colab-df-container\">\n",
              "      <div>\n",
              "<style scoped>\n",
              "    .dataframe tbody tr th:only-of-type {\n",
              "        vertical-align: middle;\n",
              "    }\n",
              "\n",
              "    .dataframe tbody tr th {\n",
              "        vertical-align: top;\n",
              "    }\n",
              "\n",
              "    .dataframe thead th {\n",
              "        text-align: right;\n",
              "    }\n",
              "</style>\n",
              "<table border=\"1\" class=\"dataframe\">\n",
              "  <thead>\n",
              "    <tr style=\"text-align: right;\">\n",
              "      <th></th>\n",
              "      <th>Club Name</th>\n",
              "      <th>Games Played</th>\n",
              "      <th>Wins</th>\n",
              "      <th>Win %</th>\n",
              "      <th>Goals</th>\n",
              "      <th>G/M</th>\n",
              "      <th>Clean Sheets</th>\n",
              "      <th>Clean Sheet %</th>\n",
              "      <th>Successful Passes</th>\n",
              "      <th>SP/M</th>\n",
              "      <th>...</th>\n",
              "      <th>Touches</th>\n",
              "      <th>T/M</th>\n",
              "      <th>Crosses</th>\n",
              "      <th>C/M</th>\n",
              "      <th>Red Cards</th>\n",
              "      <th>Shots</th>\n",
              "      <th>S/M</th>\n",
              "      <th>Total Points</th>\n",
              "      <th>Rank</th>\n",
              "      <th>GD</th>\n",
              "    </tr>\n",
              "  </thead>\n",
              "  <tbody>\n",
              "    <tr>\n",
              "      <th>0</th>\n",
              "      <td>Chennaiyin FC</td>\n",
              "      <td>17</td>\n",
              "      <td>9</td>\n",
              "      <td>52.941176</td>\n",
              "      <td>32</td>\n",
              "      <td>1.882353</td>\n",
              "      <td>6</td>\n",
              "      <td>35.294118</td>\n",
              "      <td>0</td>\n",
              "      <td>0</td>\n",
              "      <td>...</td>\n",
              "      <td>9893</td>\n",
              "      <td>581.941176</td>\n",
              "      <td>226</td>\n",
              "      <td>13.294118</td>\n",
              "      <td>2</td>\n",
              "      <td>228</td>\n",
              "      <td>13.411765</td>\n",
              "      <td>28</td>\n",
              "      <td>1</td>\n",
              "      <td>10</td>\n",
              "    </tr>\n",
              "    <tr>\n",
              "      <th>1</th>\n",
              "      <td>FC Goa</td>\n",
              "      <td>17</td>\n",
              "      <td>8</td>\n",
              "      <td>47.058824</td>\n",
              "      <td>34</td>\n",
              "      <td>2.000000</td>\n",
              "      <td>4</td>\n",
              "      <td>23.529412</td>\n",
              "      <td>0</td>\n",
              "      <td>0</td>\n",
              "      <td>...</td>\n",
              "      <td>9260</td>\n",
              "      <td>544.705882</td>\n",
              "      <td>242</td>\n",
              "      <td>14.235294</td>\n",
              "      <td>0</td>\n",
              "      <td>195</td>\n",
              "      <td>11.470588</td>\n",
              "      <td>28</td>\n",
              "      <td>0</td>\n",
              "      <td>9</td>\n",
              "    </tr>\n",
              "    <tr>\n",
              "      <th>2</th>\n",
              "      <td>ATK FC</td>\n",
              "      <td>16</td>\n",
              "      <td>7</td>\n",
              "      <td>43.750000</td>\n",
              "      <td>28</td>\n",
              "      <td>1.750000</td>\n",
              "      <td>1</td>\n",
              "      <td>6.250000</td>\n",
              "      <td>0</td>\n",
              "      <td>0</td>\n",
              "      <td>...</td>\n",
              "      <td>8809</td>\n",
              "      <td>550.562500</td>\n",
              "      <td>279</td>\n",
              "      <td>17.437500</td>\n",
              "      <td>1</td>\n",
              "      <td>187</td>\n",
              "      <td>11.687500</td>\n",
              "      <td>23</td>\n",
              "      <td>0</td>\n",
              "      <td>9</td>\n",
              "    </tr>\n",
              "    <tr>\n",
              "      <th>3</th>\n",
              "      <td>Delhi Dynamos FC</td>\n",
              "      <td>16</td>\n",
              "      <td>7</td>\n",
              "      <td>43.750000</td>\n",
              "      <td>19</td>\n",
              "      <td>1.187500</td>\n",
              "      <td>4</td>\n",
              "      <td>25.000000</td>\n",
              "      <td>0</td>\n",
              "      <td>0</td>\n",
              "      <td>...</td>\n",
              "      <td>10037</td>\n",
              "      <td>627.312500</td>\n",
              "      <td>227</td>\n",
              "      <td>14.187500</td>\n",
              "      <td>1</td>\n",
              "      <td>227</td>\n",
              "      <td>14.187500</td>\n",
              "      <td>25</td>\n",
              "      <td>0</td>\n",
              "      <td>-2</td>\n",
              "    </tr>\n",
              "    <tr>\n",
              "      <th>4</th>\n",
              "      <td>Kerala Blasters FC</td>\n",
              "      <td>14</td>\n",
              "      <td>3</td>\n",
              "      <td>21.428571</td>\n",
              "      <td>22</td>\n",
              "      <td>1.571429</td>\n",
              "      <td>2</td>\n",
              "      <td>14.285714</td>\n",
              "      <td>0</td>\n",
              "      <td>0</td>\n",
              "      <td>...</td>\n",
              "      <td>7877</td>\n",
              "      <td>562.642857</td>\n",
              "      <td>281</td>\n",
              "      <td>20.071429</td>\n",
              "      <td>3</td>\n",
              "      <td>178</td>\n",
              "      <td>12.714286</td>\n",
              "      <td>13</td>\n",
              "      <td>0</td>\n",
              "      <td>-5</td>\n",
              "    </tr>\n",
              "  </tbody>\n",
              "</table>\n",
              "<p>5 rows × 23 columns</p>\n",
              "</div>\n",
              "      <button class=\"colab-df-convert\" onclick=\"convertToInteractive('df-89476331-85e1-4069-8baf-9b758bcc9437')\"\n",
              "              title=\"Convert this dataframe to an interactive table.\"\n",
              "              style=\"display:none;\">\n",
              "        \n",
              "  <svg xmlns=\"http://www.w3.org/2000/svg\" height=\"24px\"viewBox=\"0 0 24 24\"\n",
              "       width=\"24px\">\n",
              "    <path d=\"M0 0h24v24H0V0z\" fill=\"none\"/>\n",
              "    <path d=\"M18.56 5.44l.94 2.06.94-2.06 2.06-.94-2.06-.94-.94-2.06-.94 2.06-2.06.94zm-11 1L8.5 8.5l.94-2.06 2.06-.94-2.06-.94L8.5 2.5l-.94 2.06-2.06.94zm10 10l.94 2.06.94-2.06 2.06-.94-2.06-.94-.94-2.06-.94 2.06-2.06.94z\"/><path d=\"M17.41 7.96l-1.37-1.37c-.4-.4-.92-.59-1.43-.59-.52 0-1.04.2-1.43.59L10.3 9.45l-7.72 7.72c-.78.78-.78 2.05 0 2.83L4 21.41c.39.39.9.59 1.41.59.51 0 1.02-.2 1.41-.59l7.78-7.78 2.81-2.81c.8-.78.8-2.07 0-2.86zM5.41 20L4 18.59l7.72-7.72 1.47 1.35L5.41 20z\"/>\n",
              "  </svg>\n",
              "      </button>\n",
              "      \n",
              "  <style>\n",
              "    .colab-df-container {\n",
              "      display:flex;\n",
              "      flex-wrap:wrap;\n",
              "      gap: 12px;\n",
              "    }\n",
              "\n",
              "    .colab-df-convert {\n",
              "      background-color: #E8F0FE;\n",
              "      border: none;\n",
              "      border-radius: 50%;\n",
              "      cursor: pointer;\n",
              "      display: none;\n",
              "      fill: #1967D2;\n",
              "      height: 32px;\n",
              "      padding: 0 0 0 0;\n",
              "      width: 32px;\n",
              "    }\n",
              "\n",
              "    .colab-df-convert:hover {\n",
              "      background-color: #E2EBFA;\n",
              "      box-shadow: 0px 1px 2px rgba(60, 64, 67, 0.3), 0px 1px 3px 1px rgba(60, 64, 67, 0.15);\n",
              "      fill: #174EA6;\n",
              "    }\n",
              "\n",
              "    [theme=dark] .colab-df-convert {\n",
              "      background-color: #3B4455;\n",
              "      fill: #D2E3FC;\n",
              "    }\n",
              "\n",
              "    [theme=dark] .colab-df-convert:hover {\n",
              "      background-color: #434B5C;\n",
              "      box-shadow: 0px 1px 3px 1px rgba(0, 0, 0, 0.15);\n",
              "      filter: drop-shadow(0px 1px 2px rgba(0, 0, 0, 0.3));\n",
              "      fill: #FFFFFF;\n",
              "    }\n",
              "  </style>\n",
              "\n",
              "      <script>\n",
              "        const buttonEl =\n",
              "          document.querySelector('#df-89476331-85e1-4069-8baf-9b758bcc9437 button.colab-df-convert');\n",
              "        buttonEl.style.display =\n",
              "          google.colab.kernel.accessAllowed ? 'block' : 'none';\n",
              "\n",
              "        async function convertToInteractive(key) {\n",
              "          const element = document.querySelector('#df-89476331-85e1-4069-8baf-9b758bcc9437');\n",
              "          const dataTable =\n",
              "            await google.colab.kernel.invokeFunction('convertToInteractive',\n",
              "                                                     [key], {});\n",
              "          if (!dataTable) return;\n",
              "\n",
              "          const docLinkHtml = 'Like what you see? Visit the ' +\n",
              "            '<a target=\"_blank\" href=https://colab.research.google.com/notebooks/data_table.ipynb>data table notebook</a>'\n",
              "            + ' to learn more about interactive tables.';\n",
              "          element.innerHTML = '';\n",
              "          dataTable['output_type'] = 'display_data';\n",
              "          await google.colab.output.renderOutput(dataTable, element);\n",
              "          const docLink = document.createElement('div');\n",
              "          docLink.innerHTML = docLinkHtml;\n",
              "          element.appendChild(docLink);\n",
              "        }\n",
              "      </script>\n",
              "    </div>\n",
              "  </div>\n",
              "  "
            ]
          },
          "metadata": {},
          "execution_count": 25
        }
      ]
    },
    {
      "cell_type": "code",
      "source": [
        "dataframe1.info()"
      ],
      "metadata": {
        "colab": {
          "base_uri": "https://localhost:8080/"
        },
        "id": "C_Kvb4tOv2SC",
        "outputId": "890360e3-8457-4ec5-828c-f8db3801e59b"
      },
      "execution_count": 26,
      "outputs": [
        {
          "output_type": "stream",
          "name": "stdout",
          "text": [
            "<class 'pandas.core.frame.DataFrame'>\n",
            "RangeIndex: 8 entries, 0 to 7\n",
            "Data columns (total 23 columns):\n",
            " #   Column             Non-Null Count  Dtype  \n",
            "---  ------             --------------  -----  \n",
            " 0   Club Name          8 non-null      object \n",
            " 1   Games Played       8 non-null      int64  \n",
            " 2   Wins               8 non-null      int64  \n",
            " 3   Win %              8 non-null      float64\n",
            " 4   Goals              8 non-null      int64  \n",
            " 5   G/M                8 non-null      float64\n",
            " 6   Clean Sheets       8 non-null      int64  \n",
            " 7   Clean Sheet %      8 non-null      float64\n",
            " 8   Successful Passes  8 non-null      int64  \n",
            " 9   SP/M               8 non-null      int64  \n",
            " 10  Draws              8 non-null      int64  \n",
            " 11  Fouls              8 non-null      int64  \n",
            " 12  F/M                8 non-null      float64\n",
            " 13  Touches            8 non-null      int64  \n",
            " 14  T/M                8 non-null      float64\n",
            " 15  Crosses            8 non-null      int64  \n",
            " 16  C/M                8 non-null      float64\n",
            " 17  Red Cards          8 non-null      int64  \n",
            " 18  Shots              8 non-null      int64  \n",
            " 19  S/M                8 non-null      float64\n",
            " 20  Total Points       8 non-null      int64  \n",
            " 21  Rank               8 non-null      int64  \n",
            " 22  GD                 8 non-null      int64  \n",
            "dtypes: float64(7), int64(15), object(1)\n",
            "memory usage: 1.6+ KB\n"
          ]
        }
      ]
    },
    {
      "cell_type": "code",
      "source": [],
      "metadata": {
        "id": "LsWwAPsNwK-u"
      },
      "execution_count": 26,
      "outputs": []
    },
    {
      "cell_type": "code",
      "source": [
        "del dataframe1['Games Played'];\n",
        "del dataframe1['Goals'];\n",
        "del dataframe1['Successful Passes'];\n",
        "del dataframe1['Touches'];\n",
        "del dataframe1['Crosses'];\n",
        "del dataframe1['Shots'];\n",
        "\n"
      ],
      "metadata": {
        "id": "-fcz-OzvwLT6"
      },
      "execution_count": 27,
      "outputs": []
    },
    {
      "cell_type": "code",
      "source": [
        "dataframe1.info()"
      ],
      "metadata": {
        "colab": {
          "base_uri": "https://localhost:8080/"
        },
        "id": "i6Ru5M7zwRZW",
        "outputId": "f369585b-c29b-49c8-dd21-2ebcd2c64b16"
      },
      "execution_count": 28,
      "outputs": [
        {
          "output_type": "stream",
          "name": "stdout",
          "text": [
            "<class 'pandas.core.frame.DataFrame'>\n",
            "RangeIndex: 8 entries, 0 to 7\n",
            "Data columns (total 17 columns):\n",
            " #   Column         Non-Null Count  Dtype  \n",
            "---  ------         --------------  -----  \n",
            " 0   Club Name      8 non-null      object \n",
            " 1   Wins           8 non-null      int64  \n",
            " 2   Win %          8 non-null      float64\n",
            " 3   G/M            8 non-null      float64\n",
            " 4   Clean Sheets   8 non-null      int64  \n",
            " 5   Clean Sheet %  8 non-null      float64\n",
            " 6   SP/M           8 non-null      int64  \n",
            " 7   Draws          8 non-null      int64  \n",
            " 8   Fouls          8 non-null      int64  \n",
            " 9   F/M            8 non-null      float64\n",
            " 10  T/M            8 non-null      float64\n",
            " 11  C/M            8 non-null      float64\n",
            " 12  Red Cards      8 non-null      int64  \n",
            " 13  S/M            8 non-null      float64\n",
            " 14  Total Points   8 non-null      int64  \n",
            " 15  Rank           8 non-null      int64  \n",
            " 16  GD             8 non-null      int64  \n",
            "dtypes: float64(7), int64(9), object(1)\n",
            "memory usage: 1.2+ KB\n"
          ]
        }
      ]
    },
    {
      "cell_type": "code",
      "source": [
        "X1 = dataframe1[['G/M','Fouls','SP/M','Total Points','GD']]\n",
        "y1 = dataframe1[['Rank']]"
      ],
      "metadata": {
        "id": "KvG1MLckvDjN"
      },
      "execution_count": 29,
      "outputs": []
    },
    {
      "cell_type": "code",
      "source": [
        "X1_train, X1_test, y1_train, y1_test = train_test_split(X1, y1, test_size=0.3, random_state=101)"
      ],
      "metadata": {
        "id": "-C1kIxqsvDmX"
      },
      "execution_count": 30,
      "outputs": []
    },
    {
      "cell_type": "code",
      "source": [
        "lm.fit(X1_train,y1_train)"
      ],
      "metadata": {
        "colab": {
          "base_uri": "https://localhost:8080/",
          "height": 74
        },
        "id": "qc516Ro8vDo7",
        "outputId": "28570d78-86af-46cc-83b5-c8c5e0f778df"
      },
      "execution_count": 31,
      "outputs": [
        {
          "output_type": "execute_result",
          "data": {
            "text/plain": [
              "LinearRegression()"
            ],
            "text/html": [
              "<style>#sk-container-id-2 {color: black;background-color: white;}#sk-container-id-2 pre{padding: 0;}#sk-container-id-2 div.sk-toggleable {background-color: white;}#sk-container-id-2 label.sk-toggleable__label {cursor: pointer;display: block;width: 100%;margin-bottom: 0;padding: 0.3em;box-sizing: border-box;text-align: center;}#sk-container-id-2 label.sk-toggleable__label-arrow:before {content: \"▸\";float: left;margin-right: 0.25em;color: #696969;}#sk-container-id-2 label.sk-toggleable__label-arrow:hover:before {color: black;}#sk-container-id-2 div.sk-estimator:hover label.sk-toggleable__label-arrow:before {color: black;}#sk-container-id-2 div.sk-toggleable__content {max-height: 0;max-width: 0;overflow: hidden;text-align: left;background-color: #f0f8ff;}#sk-container-id-2 div.sk-toggleable__content pre {margin: 0.2em;color: black;border-radius: 0.25em;background-color: #f0f8ff;}#sk-container-id-2 input.sk-toggleable__control:checked~div.sk-toggleable__content {max-height: 200px;max-width: 100%;overflow: auto;}#sk-container-id-2 input.sk-toggleable__control:checked~label.sk-toggleable__label-arrow:before {content: \"▾\";}#sk-container-id-2 div.sk-estimator input.sk-toggleable__control:checked~label.sk-toggleable__label {background-color: #d4ebff;}#sk-container-id-2 div.sk-label input.sk-toggleable__control:checked~label.sk-toggleable__label {background-color: #d4ebff;}#sk-container-id-2 input.sk-hidden--visually {border: 0;clip: rect(1px 1px 1px 1px);clip: rect(1px, 1px, 1px, 1px);height: 1px;margin: -1px;overflow: hidden;padding: 0;position: absolute;width: 1px;}#sk-container-id-2 div.sk-estimator {font-family: monospace;background-color: #f0f8ff;border: 1px dotted black;border-radius: 0.25em;box-sizing: border-box;margin-bottom: 0.5em;}#sk-container-id-2 div.sk-estimator:hover {background-color: #d4ebff;}#sk-container-id-2 div.sk-parallel-item::after {content: \"\";width: 100%;border-bottom: 1px solid gray;flex-grow: 1;}#sk-container-id-2 div.sk-label:hover label.sk-toggleable__label {background-color: #d4ebff;}#sk-container-id-2 div.sk-serial::before {content: \"\";position: absolute;border-left: 1px solid gray;box-sizing: border-box;top: 0;bottom: 0;left: 50%;z-index: 0;}#sk-container-id-2 div.sk-serial {display: flex;flex-direction: column;align-items: center;background-color: white;padding-right: 0.2em;padding-left: 0.2em;position: relative;}#sk-container-id-2 div.sk-item {position: relative;z-index: 1;}#sk-container-id-2 div.sk-parallel {display: flex;align-items: stretch;justify-content: center;background-color: white;position: relative;}#sk-container-id-2 div.sk-item::before, #sk-container-id-2 div.sk-parallel-item::before {content: \"\";position: absolute;border-left: 1px solid gray;box-sizing: border-box;top: 0;bottom: 0;left: 50%;z-index: -1;}#sk-container-id-2 div.sk-parallel-item {display: flex;flex-direction: column;z-index: 1;position: relative;background-color: white;}#sk-container-id-2 div.sk-parallel-item:first-child::after {align-self: flex-end;width: 50%;}#sk-container-id-2 div.sk-parallel-item:last-child::after {align-self: flex-start;width: 50%;}#sk-container-id-2 div.sk-parallel-item:only-child::after {width: 0;}#sk-container-id-2 div.sk-dashed-wrapped {border: 1px dashed gray;margin: 0 0.4em 0.5em 0.4em;box-sizing: border-box;padding-bottom: 0.4em;background-color: white;}#sk-container-id-2 div.sk-label label {font-family: monospace;font-weight: bold;display: inline-block;line-height: 1.2em;}#sk-container-id-2 div.sk-label-container {text-align: center;}#sk-container-id-2 div.sk-container {/* jupyter's `normalize.less` sets `[hidden] { display: none; }` but bootstrap.min.css set `[hidden] { display: none !important; }` so we also need the `!important` here to be able to override the default hidden behavior on the sphinx rendered scikit-learn.org. See: https://github.com/scikit-learn/scikit-learn/issues/21755 */display: inline-block !important;position: relative;}#sk-container-id-2 div.sk-text-repr-fallback {display: none;}</style><div id=\"sk-container-id-2\" class=\"sk-top-container\"><div class=\"sk-text-repr-fallback\"><pre>LinearRegression()</pre><b>In a Jupyter environment, please rerun this cell to show the HTML representation or trust the notebook. <br />On GitHub, the HTML representation is unable to render, please try loading this page with nbviewer.org.</b></div><div class=\"sk-container\" hidden><div class=\"sk-item\"><div class=\"sk-estimator sk-toggleable\"><input class=\"sk-toggleable__control sk-hidden--visually\" id=\"sk-estimator-id-2\" type=\"checkbox\" checked><label for=\"sk-estimator-id-2\" class=\"sk-toggleable__label sk-toggleable__label-arrow\">LinearRegression</label><div class=\"sk-toggleable__content\"><pre>LinearRegression()</pre></div></div></div></div></div>"
            ]
          },
          "metadata": {},
          "execution_count": 31
        }
      ]
    },
    {
      "cell_type": "code",
      "source": [
        "predictions = lm.predict(X1_test)"
      ],
      "metadata": {
        "id": "vvXIKCr8vDrU",
        "colab": {
          "base_uri": "https://localhost:8080/"
        },
        "outputId": "174d5764-ec3e-4cf2-c2ab-4cff2505cbaf"
      },
      "execution_count": 32,
      "outputs": [
        {
          "output_type": "stream",
          "name": "stderr",
          "text": [
            "/usr/local/lib/python3.9/dist-packages/sklearn/base.py:439: UserWarning: X does not have valid feature names, but LinearRegression was fitted with feature names\n",
            "  warnings.warn(\n"
          ]
        }
      ]
    },
    {
      "cell_type": "code",
      "source": [
        "plt.scatter(y1_test,predictions)\n",
        "plt.xlabel('Y1 Test')\n",
        "plt.ylabel('Predicted Y1')"
      ],
      "metadata": {
        "colab": {
          "base_uri": "https://localhost:8080/",
          "height": 296
        },
        "id": "mj4dbgZ8vDt5",
        "outputId": "2c097125-e6f4-4535-e20c-d9e53e0209eb"
      },
      "execution_count": 33,
      "outputs": [
        {
          "output_type": "execute_result",
          "data": {
            "text/plain": [
              "Text(0, 0.5, 'Predicted Y1')"
            ]
          },
          "metadata": {},
          "execution_count": 33
        },
        {
          "output_type": "display_data",
          "data": {
            "text/plain": [
              "<Figure size 432x288 with 1 Axes>"
            ],
            "image/png": "[encoded data removed]"
          },
          "metadata": {
            "needs_background": "light"
          }
        }
      ]
    },
    {
      "cell_type": "code",
      "source": [
        "import matplotlib.pyplot as plt\n",
        "import seaborn as sns\n",
        "%matplotlib inline\n",
        "from sklearnex import patch_sklearn\n",
        "patch_sklearn()\n",
        "\n",
        "\n",
        "from sklearn.neighbors import KNeighborsClassifier\n",
        "from sklearn.metrics import confusion_matrix, accuracy_score\n",
        "from sklearn.model_selection import cross_val_score\n",
        "\n",
        "# Instantiate learning model (k = 3)\n",
        "classifier = KNeighborsClassifier(n_neighbors=5)\n",
        "\n",
        "# Fitting the model\n",
        "classifier.fit(X1_train, y1_train)\n",
        "\n",
        "# Predicting the Test set results\n",
        "y1_pred = classifier.predict(X1_test)\n",
        "\n",
        "cm = confusion_matrix(y1_test, y1_pred)\n",
        "cm\n",
        "\n",
        "\n",
        "accuracy = accuracy_score(y1_test, y1_pred)*100\n",
        "print('Accuracy of our model is equal ' + str(round(accuracy, 2)) + ' %.')"
      ],
      "metadata": {
        "colab": {
          "base_uri": "https://localhost:8080/"
        },
        "id": "J6gqSo2BxPB5",
        "outputId": "98e15a0a-fe09-43ed-f333-898d6670976f"
      },
      "execution_count": 34,
      "outputs": [
        {
          "output_type": "stream",
          "name": "stdout",
          "text": [
            "Accuracy of our model is equal 66.67 %.\n"
          ]
        },
        {
          "output_type": "stream",
          "name": "stderr",
          "text": [
            "Intel(R) Extension for Scikit-learn* enabled (https://github.com/intel/scikit-learn-intelex)\n",
            "/usr/local/lib/python3.9/dist-packages/sklearn/neighbors/_classification.py:215: DataConversionWarning: A column-vector y was passed when a 1d array was expected. Please change the shape of y to (n_samples,), for example using ravel().\n",
            "  return self._fit(X, y)\n"
          ]
        }
      ]
    }
  ]
}